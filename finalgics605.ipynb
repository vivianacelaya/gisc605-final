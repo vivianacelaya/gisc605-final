{
  "nbformat": 4,
  "nbformat_minor": 0,
  "metadata": {
    "colab": {
      "provenance": []
    },
    "kernelspec": {
      "name": "python3",
      "display_name": "Python 3"
    },
    "language_info": {
      "name": "python"
    }
  },
  "cells": [
    {
      "cell_type": "code",
      "execution_count": 22,
      "metadata": {
        "colab": {
          "base_uri": "https://localhost:8080/"
        },
        "id": "BXMus2FJPw08",
        "outputId": "a0534e8b-e975-42a8-909d-79a4fdc5535d"
      },
      "outputs": [
        {
          "output_type": "stream",
          "name": "stdout",
          "text": [
            "Howdy Planet!\n"
          ]
        }
      ],
      "source": [
        "def howdy_planet ():\n",
        "  print(\"Howdy Planet!\")\n",
        "\n",
        "howdy_planet()"
      ]
    },
    {
      "cell_type": "code",
      "source": [
        "map_directions = [\"North\", \"South\", \"East\",\"West\"]\n"
      ],
      "metadata": {
        "id": "27JWaj1pcAEw"
      },
      "execution_count": 23,
      "outputs": []
    },
    {
      "cell_type": "code",
      "source": [
        "for directions in map_directions:\n",
        "   print(directions)"
      ],
      "metadata": {
        "colab": {
          "base_uri": "https://localhost:8080/"
        },
        "id": "mXZmiP32dpLK",
        "outputId": "af44f274-c0a9-44f7-ae95-4ce90cfbb78b"
      },
      "execution_count": 24,
      "outputs": [
        {
          "output_type": "stream",
          "name": "stdout",
          "text": [
            "North\n",
            "South\n",
            "East\n",
            "West\n"
          ]
        }
      ]
    }
  ]
}